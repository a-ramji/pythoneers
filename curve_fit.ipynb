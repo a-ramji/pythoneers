{
 "cells": [
  {
   "cell_type": "code",
   "execution_count": null,
   "metadata": {},
   "outputs": [],
   "source": [
    "# from scipy.optimize import curve_fit\n",
    "\n",
    "# # Filter out any missing values in the 'bill_length_mm' and 'bill_depth_mm' columns\n",
    "# mass_length = penguins.dropna(subset=['bill_length_mm', 'body_mass_g'])\n",
    "\n",
    "# # Define the function to fit (you can choose an appropriate function)\n",
    "# def func(x, a, b):\n",
    "#     return a * x + b\n",
    "\n",
    "# # Extract the data\n",
    "# x_data = filtered_data['bill_length_mm']\n",
    "# y_data = filtered_data['body_mass_g']\n",
    "\n",
    "# # Perform curve fitting\n",
    "# params, covariance = curve_fit(func, x_data, y_data)\n",
    "\n",
    "# # Extract the fitted parameters\n",
    "# a_fit, b_fit = params\n",
    "\n",
    "# # Create a curve using the fitted parameters\n",
    "# x_curve = np.linspace(min(x_data), max(x_data), 100)\n",
    "# y_curve = func(x_curve, a_fit, b_fit)\n",
    "\n",
    "# # Plot the original data and the fitted curve\n",
    "# plt.scatter(x_data, y_data, label='Data')\n",
    "# plt.plot(x_curve, y_curve, 'r', label='Fitted Curve')\n",
    "# plt.xlabel('Bill Length (mm)')\n",
    "# plt.ylabel('Body Mass (g)')\n",
    "# plt.legend()\n",
    "# plt.title('Curve Fitting of Bill Length vs. Body Mass')\n",
    "# plt.show()\n",
    "\n",
    "# # Print the fitted parameters\n",
    "# print(\"Fitted Parameters:\")\n",
    "# print(\"a (slope):\", a_fit)\n",
    "# print(\"b (intercept):\", b_fit)"
   ]
  }
 ],
 "metadata": {
  "language_info": {
   "name": "python"
  },
  "orig_nbformat": 4
 },
 "nbformat": 4,
 "nbformat_minor": 2
}
