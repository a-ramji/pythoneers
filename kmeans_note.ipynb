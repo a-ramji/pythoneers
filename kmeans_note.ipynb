{
 "cells": [
  {
   "cell_type": "markdown",
   "metadata": {},
   "source": [
    "`Kmeans Clustering` unsupervised machine learning modal:\n",
    "\n",
    "    **ONE OF THE SIMPLEST MACHINE LEARNIG MODEL**\n",
    "\n",
    "- For each data point x in the dataset, calculate the distance between x and each of the k centroids.\n",
    "- Assign the data point x to the cluster whose centroid is the closest (typically using Euclidean distance).\n",
    "\n"
   ]
  },
  {
   "cell_type": "markdown",
   "metadata": {},
   "source": [
    "# Where is the function in SciPY ? "
   ]
  },
  {
   "cell_type": "markdown",
   "metadata": {},
   "source": [
    "- scipy.cluster.vq: quantify the data segaration based on centroid and make clusters\n",
    "- under Scipy.cluster.vq, Kmeans and vq are does the job for clustering"
   ]
  },
  {
   "cell_type": "markdown",
   "metadata": {},
   "source": [
    "How computer identify number of Clusters?"
   ]
  },
  {
   "cell_type": "markdown",
   "metadata": {},
   "source": [
    "##using Elbow Method"
   ]
  }
 ],
 "metadata": {
  "language_info": {
   "name": "python"
  },
  "orig_nbformat": 4
 },
 "nbformat": 4,
 "nbformat_minor": 2
}
