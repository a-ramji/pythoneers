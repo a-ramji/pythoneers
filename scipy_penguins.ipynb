{
 "cells": [
  {
   "cell_type": "markdown",
   "metadata": {},
   "source": [
    "# SciPy Tutorial"
   ]
  },
  {
   "cell_type": "markdown",
   "metadata": {},
   "source": [
    "### What is `SciPy` (\"Sigh Pie\")?\n"
   ]
  },
  {
   "cell_type": "markdown",
   "metadata": {},
   "source": [
    "<p align=\"center\">\n",
    " <img src=\"images/Sigh Pie.png\" alt=\"sigh pie\" width=\"500\"/>\n"
   ]
  },
  {
   "cell_type": "markdown",
   "metadata": {},
   "source": [
    "\n",
    "`SciPy` is an open-source Python library which is used for scientific and technical computing. It is a collection of mathematical algorithms and convenience functions built on the `NumPy` extension of Python. Allows the user to manipulate and visualize data with a wide range of high-level commands.\n",
    "\n",
    "Some of the key features and submodules of `SciPy` include:\n",
    "- Integration&nbsp;&nbsp;&nbsp; (`scipy.integrate`)\n",
    "- Optimization&nbsp;&nbsp;&nbsp; (`scipy.optimize`)\n",
    "- Signal Processing&nbsp;&nbsp;&nbsp; (`scipy.signal`)\n",
    "- Linear Algebra&nbsp;&nbsp;&nbsp; (`scipy.linalg`)\n",
    "- Statistics&nbsp;&nbsp;&nbsp; (`scipy.stats`)\n",
    "- Interpolation&nbsp;&nbsp;&nbsp; (`scipy.interpolate`)\n",
    "- Special Functions&nbsp;&nbsp;&nbsp; (`scipy.special`)\n",
    "- **Scientific Python Statistics**&nbsp;&nbsp;&nbsp; (`scipy.stats`)\n",
    "- **Vector Quantization**&nbsp;&nbsp;&nbsp; (`scipy.cluster.vq`)\n",
    "\n",
    "These features make `SciPy` an essential tool for scientists, engineers, and researchers who work with complex mathematical and scientific problems.\n"
   ]
  },
  {
   "cell_type": "markdown",
   "metadata": {},
   "source": [
    "&nbsp;"
   ]
  },
  {
   "cell_type": "markdown",
   "metadata": {},
   "source": [
    "### Where is it?"
   ]
  },
  {
   "cell_type": "markdown",
   "metadata": {},
   "source": [
    "https://scipy.org/\n",
    "- Main webpage for `SciPy`\n",
    "- Has instructions and everything you need to know about `SciPy`\n",
    "- Lets you know when new versions are released\n",
    "\n",
    "https://github.com/scipy/scipy\n",
    "- Main GitHub repository for `SciPy`\n",
    "- Has everything you need in order to know about and use `SciPy` including bug reports and previous commits\n"
   ]
  },
  {
   "cell_type": "markdown",
   "metadata": {},
   "source": [
    "&nbsp;"
   ]
  },
  {
   "cell_type": "markdown",
   "metadata": {},
   "source": [
    "### Who created it?"
   ]
  },
  {
   "cell_type": "markdown",
   "metadata": {},
   "source": [
    "`SciPy` was created by a community of developers and contributors rather than a single individual. It was originally developed by Travis Olliphant, who is a prominent figure in the Python scientific computing community. \n",
    "\n",
    "Travis Olliphant started the `SciPy` project in the late 1990s in order to address the need for a comprehensive library for scientific and technical computing in Python. He also played a significant role in the development of NumPy, which is a fundamental component of `SciPy`.\n"
   ]
  },
  {
   "cell_type": "markdown",
   "metadata": {},
   "source": [
    "&nbsp;"
   ]
  },
  {
   "cell_type": "markdown",
   "metadata": {},
   "source": [
    "### Uses in Environmental Data Science:"
   ]
  },
  {
   "cell_type": "markdown",
   "metadata": {},
   "source": [
    "-\tData Preprocessing\n",
    "\n",
    "-\tNumerical Integration\n",
    "\n",
    "-\tOptimization\n",
    "\n",
    "-\tSpatial Analysis\n",
    "\n",
    "-\tSignal Processing\n",
    "\n",
    "-\tInterpolation\n",
    "\n",
    "-\tSimulation and Modeling\n",
    "\n",
    "-\tGeospatial Data\n",
    "\n",
    "-\tImage Processing\n",
    "\n",
    "-\t**Statistical Analysis**: Environmental data scientists use statistical methods to analyze trends, detect anomalies, and make predictions. SciPy's scipy.stats submodule provides a wide range of statistical tests and probability distributions for hypothesis testing and uncertainty analysis.\n",
    "\n",
    "-\t**Machine Learning Integration**: SciPy can be integrated with machine learning libraries like scikit-learn for environmental data classification, regression, clustering, and predictive modeling.\n",
    "\n",
    "-\t**Statistical Modeling**: Environmental scientists can use SciPy for fitting statistical models to data, allowing for the assessment of relationships between environmental variables and the development of predictive models.\n"
   ]
  },
  {
   "cell_type": "markdown",
   "metadata": {},
   "source": [
    "ANOVA T-test *(Statistical Analysis and Modeling)*\n",
    "\n",
    "Linear Regression *(Statistical Analysis and Modeling)*\n",
    "\n",
    "Correlation Coefficient *(Statistical Analysis and Machine Learning Integration)*"
   ]
  },
  {
   "cell_type": "markdown",
   "metadata": {},
   "source": [
    "&nbsp;"
   ]
  },
  {
   "cell_type": "markdown",
   "metadata": {},
   "source": [
    "&nbsp;"
   ]
  },
  {
   "cell_type": "markdown",
   "metadata": {},
   "source": [
    "# <p align=\"center\"> **Spicy Penguin**"
   ]
  },
  {
   "cell_type": "markdown",
   "metadata": {},
   "source": [
    "<p align=\"center\">\n",
    " <img src=\"images/spicy penguin.jpg\" alt=\"spicy penguin\" width=\"400\"/>"
   ]
  },
  {
   "cell_type": "markdown",
   "metadata": {},
   "source": [
    "## Tutorial"
   ]
  },
  {
   "cell_type": "markdown",
   "metadata": {},
   "source": [
    "Follow the steps below to ..."
   ]
  },
  {
   "cell_type": "markdown",
   "metadata": {},
   "source": [
    "#### Installation"
   ]
  },
  {
   "cell_type": "markdown",
   "metadata": {},
   "source": [
    "For this tutorial we are going to be using the Palmer Penguins data set [more info on palmer penguins]. First we will need to install this library.\n",
    "\n",
    "- Run this section in the terminal:  ``` pip install palmerpenguins```"
   ]
  },
  {
   "cell_type": "markdown",
   "metadata": {},
   "source": [
    "#### Import"
   ]
  },
  {
   "cell_type": "markdown",
   "metadata": {},
   "source": [
    "To run some of the functions you'll need to import some other libraries that work with ```SciPy```.\n",
    "\n",
    "Run the cell below:"
   ]
  },
  {
   "cell_type": "code",
   "execution_count": 3,
   "metadata": {},
   "outputs": [],
   "source": [
    "import pandas as pd\n",
    "import matplotlib.pyplot as plt\n",
    "import seaborn as sns \n",
    "import numpy as np\n",
    "import scipy.stats as stats"
   ]
  },
  {
   "cell_type": "markdown",
   "metadata": {},
   "source": [
    "Load the palmerpenguins data set from palmerpenguins by running the cell below:"
   ]
  },
  {
   "cell_type": "code",
   "execution_count": 4,
   "metadata": {},
   "outputs": [],
   "source": [
    "from palmerpenguins import load_penguins\n",
    "penguins = load_penguins()"
   ]
  },
  {
   "cell_type": "markdown",
   "metadata": {},
   "source": [
    "Let's take a look at the data set."
   ]
  },
  {
   "cell_type": "code",
   "execution_count": 5,
   "metadata": {},
   "outputs": [
    {
     "data": {
      "text/html": [
       "<div>\n",
       "<style scoped>\n",
       "    .dataframe tbody tr th:only-of-type {\n",
       "        vertical-align: middle;\n",
       "    }\n",
       "\n",
       "    .dataframe tbody tr th {\n",
       "        vertical-align: top;\n",
       "    }\n",
       "\n",
       "    .dataframe thead th {\n",
       "        text-align: right;\n",
       "    }\n",
       "</style>\n",
       "<table border=\"1\" class=\"dataframe\">\n",
       "  <thead>\n",
       "    <tr style=\"text-align: right;\">\n",
       "      <th></th>\n",
       "      <th>species</th>\n",
       "      <th>island</th>\n",
       "      <th>bill_length_mm</th>\n",
       "      <th>bill_depth_mm</th>\n",
       "      <th>flipper_length_mm</th>\n",
       "      <th>body_mass_g</th>\n",
       "      <th>sex</th>\n",
       "      <th>year</th>\n",
       "    </tr>\n",
       "  </thead>\n",
       "  <tbody>\n",
       "    <tr>\n",
       "      <th>0</th>\n",
       "      <td>Adelie</td>\n",
       "      <td>Torgersen</td>\n",
       "      <td>39.1</td>\n",
       "      <td>18.7</td>\n",
       "      <td>181.0</td>\n",
       "      <td>3750.0</td>\n",
       "      <td>male</td>\n",
       "      <td>2007</td>\n",
       "    </tr>\n",
       "    <tr>\n",
       "      <th>1</th>\n",
       "      <td>Adelie</td>\n",
       "      <td>Torgersen</td>\n",
       "      <td>39.5</td>\n",
       "      <td>17.4</td>\n",
       "      <td>186.0</td>\n",
       "      <td>3800.0</td>\n",
       "      <td>female</td>\n",
       "      <td>2007</td>\n",
       "    </tr>\n",
       "    <tr>\n",
       "      <th>2</th>\n",
       "      <td>Adelie</td>\n",
       "      <td>Torgersen</td>\n",
       "      <td>40.3</td>\n",
       "      <td>18.0</td>\n",
       "      <td>195.0</td>\n",
       "      <td>3250.0</td>\n",
       "      <td>female</td>\n",
       "      <td>2007</td>\n",
       "    </tr>\n",
       "    <tr>\n",
       "      <th>3</th>\n",
       "      <td>Adelie</td>\n",
       "      <td>Torgersen</td>\n",
       "      <td>NaN</td>\n",
       "      <td>NaN</td>\n",
       "      <td>NaN</td>\n",
       "      <td>NaN</td>\n",
       "      <td>NaN</td>\n",
       "      <td>2007</td>\n",
       "    </tr>\n",
       "    <tr>\n",
       "      <th>4</th>\n",
       "      <td>Adelie</td>\n",
       "      <td>Torgersen</td>\n",
       "      <td>36.7</td>\n",
       "      <td>19.3</td>\n",
       "      <td>193.0</td>\n",
       "      <td>3450.0</td>\n",
       "      <td>female</td>\n",
       "      <td>2007</td>\n",
       "    </tr>\n",
       "  </tbody>\n",
       "</table>\n",
       "</div>"
      ],
      "text/plain": [
       "  species     island  bill_length_mm  bill_depth_mm  flipper_length_mm  \\\n",
       "0  Adelie  Torgersen            39.1           18.7              181.0   \n",
       "1  Adelie  Torgersen            39.5           17.4              186.0   \n",
       "2  Adelie  Torgersen            40.3           18.0              195.0   \n",
       "3  Adelie  Torgersen             NaN            NaN                NaN   \n",
       "4  Adelie  Torgersen            36.7           19.3              193.0   \n",
       "\n",
       "   body_mass_g     sex  year  \n",
       "0       3750.0    male  2007  \n",
       "1       3800.0  female  2007  \n",
       "2       3250.0  female  2007  \n",
       "3          NaN     NaN  2007  \n",
       "4       3450.0  female  2007  "
      ]
     },
     "execution_count": 5,
     "metadata": {},
     "output_type": "execute_result"
    }
   ],
   "source": [
    "penguins.head()"
   ]
  },
  {
   "cell_type": "markdown",
   "metadata": {},
   "source": [
    "Now we're ready to start using ```scipy.stats```. "
   ]
  },
  {
   "cell_type": "markdown",
   "metadata": {},
   "source": [
    "### ANOVA"
   ]
  },
  {
   "cell_type": "markdown",
   "metadata": {},
   "source": [
    "An Analysis of Variance (ANOVA) is a statistical formula used to compare variances across the means of different groups. In this section we are going to be comparing bill lengths of the three different species of penguins in the palmerpenguins dataset. "
   ]
  },
  {
   "cell_type": "markdown",
   "metadata": {},
   "source": [
    "- Note: We are going to run a one-way ANOVA here, since this is all that `SciPy` supports. To run a two-way ANOVA (comparing between two categorical variables), the `pingouin` library needs to be used. "
   ]
  },
  {
   "cell_type": "code",
   "execution_count": 6,
   "metadata": {},
   "outputs": [
    {
     "name": "stdout",
     "output_type": "stream",
     "text": [
      "F-statistic: 410.6002550405077\n",
      "P-value: 2.6946137388895484e-91\n"
     ]
    }
   ],
   "source": [
    "# Filter out any missing values in the 'bill_length_mm' and 'species' columns\n",
    "species_length = penguins.dropna(subset=['bill_length_mm', 'species'])\n",
    "\n",
    "\n",
    "# Extract data for each penguin species\n",
    "species_groups = [species_length[species_length['species'] == species]['bill_length_mm'] for species in species_length['species'].unique()]\n",
    "type(species_groups)\n",
    "\n",
    "\n",
    "# Perform one-way ANOVA\n",
    "f_statistic, p_value = stats.f_oneway(*species_groups)\n",
    "\n",
    "# Print results\n",
    "print(\"F-statistic:\", f_statistic)\n",
    "print(\"P-value:\", p_value)\n"
   ]
  },
  {
   "cell_type": "markdown",
   "metadata": {},
   "source": [
    "Assuming alpha = 0.05, what can we interpret from this p-value?"
   ]
  },
  {
   "cell_type": "markdown",
   "metadata": {},
   "source": [
    "&nbsp;"
   ]
  },
  {
   "cell_type": "markdown",
   "metadata": {},
   "source": [
    "### Correlation Coefficient"
   ]
  },
  {
   "cell_type": "markdown",
   "metadata": {},
   "source": [
    "The correlation coefficient is a measure that tells us the strength of the linear relationship between two variables. This value ranges from -1 to 1 where -1 shows a perfect negative/inverse correlation, 1 shows a perfect positive/ direct relationship, and 0 is no linear relationship. In this tutorial we will be looking at both Pearson and Spearman correlation coefficients. \n",
    "\n",
    "Pearson Correlation:\n",
    "- Measures only linear relationships\n",
    "- Ratio between the covariance of two variables and the product of their standard deviations\n",
    "\n",
    "Spearman Correlation:\n",
    "- Ranks data instead of relying on their actual values, making it suitable for data that is not normally distributed or ordinal data.\n",
    "- While our example here using palmerpenguins show a linear monotonic relationship, Spearman can also be used for nonlinear monotonic relationships: \n",
    "\n",
    "<p align=\"center\">\n",
    " <img src=\"images/Growth_equations.png\" alt=\"monotonic growth\" width=\"400\"/>"
   ]
  },
  {
   "cell_type": "code",
   "execution_count": 12,
   "metadata": {},
   "outputs": [
    {
     "name": "stdout",
     "output_type": "stream",
     "text": [
      "Pearson Correlation Coefficient: 0.5951098244376304\n",
      "Spearman Correlation Coefficient: 0.5838003194455482\n"
     ]
    }
   ],
   "source": [
    "# Filter out any missing values in the 'bill_length_mm' and 'bill_depth_mm' columns\n",
    "mass_length = penguins.dropna(subset=['bill_length_mm', 'body_mass_g'])\n",
    "\n",
    "# Extract the data for the two variables of interest\n",
    "x_data = mass_length['bill_length_mm']\n",
    "y_data = mass_length['body_mass_g']\n",
    "\n",
    "# Calculate Pearson correlation coefficient\n",
    "pearson_corr, _ = stats.pearsonr(x_data, y_data)\n",
    "\n",
    "# Calculate Spearman correlation coefficient\n",
    "spearman_corr, _ = stats.spearmanr(x_data, y_data)\n",
    "\n",
    "# Print the results\n",
    "print(\"Pearson Correlation Coefficient:\", pearson_corr)\n",
    "print(\"Spearman Correlation Coefficient:\", spearman_corr)"
   ]
  },
  {
   "cell_type": "markdown",
   "metadata": {},
   "source": [
    "These results indicate a moderately strong relationship between bill length and bodymass."
   ]
  },
  {
   "cell_type": "markdown",
   "metadata": {},
   "source": [
    "&nbsp;"
   ]
  },
  {
   "cell_type": "markdown",
   "metadata": {},
   "source": [
    "### Linear Regression"
   ]
  },
  {
   "cell_type": "markdown",
   "metadata": {},
   "source": [
    "[info about this function and what it does]"
   ]
  },
  {
   "cell_type": "code",
   "execution_count": 45,
   "metadata": {},
   "outputs": [
    {
     "name": "stdout",
     "output_type": "stream",
     "text": [
      "Slope (Coefficient): 87.4152770528755\n",
      "Intercept: 362.30672165392207\n",
      "R-squared: 0.354155703142187\n",
      "P-value: 3.808282842017912e-34\n",
      "Standard Error of the Estimate: 6.4019853258521575\n"
     ]
    },
    {
     "data": {
      "image/png": "[encoded data removed]",
      "text/plain": [
       "<Figure size 800x600 with 1 Axes>"
      ]
     },
     "metadata": {},
     "output_type": "display_data"
    },
    {
     "data": {
      "text/plain": [
       "<Figure size 640x480 with 0 Axes>"
      ]
     },
     "metadata": {},
     "output_type": "display_data"
    }
   ],
   "source": [
    "\n",
    "# Filter out any missing values in the 'bill_length_mm' and 'body_mass_g' columns\n",
    "mass_length = penguins.dropna(subset=['bill_length_mm', 'body_mass_g'])\n",
    "\n",
    "# Extract the data for the two variables of interest\n",
    "x_data = mass_length['bill_length_mm']\n",
    "y_data = mass_length['body_mass_g']\n",
    "\n",
    "# Perform linear regression\n",
    "slope, intercept, r_value, p_value, std_err = stats.linregress(x_data, y_data)\n",
    "\n",
    "# Print the regression results\n",
    "print(\"Slope (Coefficient):\", slope)\n",
    "print(\"Intercept:\", intercept)\n",
    "print(\"R-squared:\", r_value**2)\n",
    "print(\"P-value:\", p_value)\n",
    "print(\"Standard Error of the Estimate:\", std_err)\n",
    "\n",
    "# Visualize the regression line\n",
    "regression_graph = plt.figure(figsize=(8,6))\n",
    "\n",
    "\n",
    "plt.scatter(x_data, y_data, label='Data', marker=\"o\", s=20, c='blue', edgecolors='black' , linewidths=1, alpha=0.5)\n",
    "plt.plot(x_data, intercept + slope * x_data, 'k', label='Regression Line')\n",
    "plt.xlabel('Bill Length (mm)')\n",
    "plt.ylabel('Body Mass (g)')\n",
    "plt.title('Linear Regression of Body Mass vs. Bill Length')\n",
    "plt.legend()\n",
    "# plt.grid(True)\n",
    "plt.show()\n",
    "plt.tight_layout()"
   ]
  },
  {
   "cell_type": "markdown",
   "metadata": {},
   "source": [
    "## K Means Clustering"
   ]
  },
  {
   "cell_type": "code",
   "execution_count": null,
   "metadata": {},
   "outputs": [],
   "source": [
    "penguins = penguins.dropna()"
   ]
  },
  {
   "cell_type": "code",
   "execution_count": null,
   "metadata": {},
   "outputs": [],
   "source": [
    "# Define the number of clusters (k)\n",
    "k = 4\n",
    "\n",
    "data = penguins[['body_mass_g', 'bill_depth_mm']]  \n",
    "\n",
    "# Perform k-means clustering\n",
    "centroids, _ = kmeans(data, k)\n",
    "\n",
    "# Assign each data point to a cluster\n",
    "cluster_ids, _ = vq(data, centroids)\n",
    "\n",
    "# Plot the data points and cluster centroids\n",
    "plt.scatter(data.iloc[:, 0], data.iloc[:, 1], c=cluster_ids)\n",
    "plt.scatter(centroids[:, 0], centroids[:, 1], c='red', marker='x', s=200)\n",
    "plt.title(f'K-Means Clustering (k={k})')\n",
    "plt.xlabel('Body Mass_g')\n",
    "plt.ylabel('Bill_depth')\n",
    "plt.show()\n",
    "\n",
    "# Print the cluster centroids\n",
    "print(\"Cluster Centroids:\")\n",
    "print(centroids)"
   ]
  },
  {
   "cell_type": "code",
   "execution_count": null,
   "metadata": {},
   "outputs": [],
   "source": [
    "data = penguins[['bill_length_mm', 'body_mass_g']]\n",
    "\n",
    "# Determine the optimal K using the Elbow Method\n",
    "wcss = []  # Within-cluster sum of squares\n",
    "for k in range(1, 11):  # Try different values of K\n",
    "    centroids, distortion = kmeans(data, k)\n",
    "    wcss.append(distortion)\n",
    "\n",
    "# Plot the WCSS values\n",
    "plt.plot(range(1, 11), wcss, marker='o')\n",
    "plt.xlabel('Number of Clusters (K)')\n",
    "plt.ylabel('WCSS')\n",
    "plt.title('Elbow Method for Optimal K')\n",
    "plt.show()"
   ]
  }
 ],
 "metadata": {
  "kernelspec": {
   "display_name": "Python 3",
   "language": "python",
   "name": "python3"
  },
  "language_info": {
   "codemirror_mode": {
    "name": "ipython",
    "version": 3
   },
   "file_extension": ".py",
   "mimetype": "text/x-python",
   "name": "python",
   "nbconvert_exporter": "python",
   "pygments_lexer": "ipython3",
   "version": "3.1.0"
  },
  "orig_nbformat": 4
 },
 "nbformat": 4,
 "nbformat_minor": 2
}
